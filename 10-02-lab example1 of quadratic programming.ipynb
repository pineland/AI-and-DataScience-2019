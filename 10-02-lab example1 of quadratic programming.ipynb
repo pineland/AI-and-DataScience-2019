{
 "cells": [
  {
   "cell_type": "markdown",
   "metadata": {},
   "source": [
    "# Example of quadratic programming"
   ]
  },
  {
   "cell_type": "code",
   "execution_count": 101,
   "metadata": {},
   "outputs": [],
   "source": [
    "# install cvxopt library\n",
    "#!conda install cvxopt     # 파워쉘을 이용하여 수행하면 시간이 훨씬 절약된다."
   ]
  },
  {
   "cell_type": "code",
   "execution_count": 102,
   "metadata": {},
   "outputs": [],
   "source": [
    "import numpy as np\n",
    "from cvxopt import matrix, solvers"
   ]
  },
  {
   "cell_type": "code",
   "execution_count": 103,
   "metadata": {},
   "outputs": [],
   "source": [
    " X = np.array([[1, 6], [1, 8], [4, 11], [5, 2], [7, 6], [9, 3]], dtype=np.float64)"
   ]
  },
  {
   "cell_type": "code",
   "execution_count": 104,
   "metadata": {},
   "outputs": [],
   "source": [
    "t = np.array([[1], [1], [1], [-1], [-1], [-1]], dtype=np.float64)"
   ]
  },
  {
   "cell_type": "code",
   "execution_count": 105,
   "metadata": {},
   "outputs": [],
   "source": [
    "X_square = np.matmul(X, np.transpose(X)) "
   ]
  },
  {
   "cell_type": "code",
   "execution_count": 106,
   "metadata": {},
   "outputs": [],
   "source": [
    "t_square = np.matmul(t, np.transpose(t)) "
   ]
  },
  {
   "cell_type": "code",
   "execution_count": 107,
   "metadata": {},
   "outputs": [
    {
     "name": "stdout",
     "output_type": "stream",
     "text": [
      "[[ 37.  49.  70. -17. -43. -27.]\n",
      " [ 49.  65.  92. -21. -55. -33.]\n",
      " [ 70.  92. 137. -42. -94. -69.]\n",
      " [-17. -21. -42.  29.  47.  51.]\n",
      " [-43. -55. -94.  47.  85.  81.]\n",
      " [-27. -33. -69.  51.  81.  90.]]\n"
     ]
    }
   ],
   "source": [
    "H = (X_square * t_square)\n",
    "print(H)"
   ]
  },
  {
   "cell_type": "code",
   "execution_count": 108,
   "metadata": {},
   "outputs": [],
   "source": [
    "H = matrix(H)\n",
    "f = matrix(-np.ones((6,1), dtype=np.float64))\n",
    "A = matrix(-np.eye(6, dtype=np.float64))\n",
    "a = matrix(np.zeros((6,1), dtype=np.float64))\n",
    "B = matrix(np.transpose(t))\n",
    "b = matrix(np.array([0.]))"
   ]
  },
  {
   "cell_type": "code",
   "execution_count": 109,
   "metadata": {},
   "outputs": [],
   "source": [
    "solvers.options['show_progress'] = False\n",
    "sol = solvers.qp(H, f, A, a, B, b)\n",
    "alphas = np.array(sol['x'])"
   ]
  },
  {
   "cell_type": "code",
   "execution_count": 110,
   "metadata": {},
   "outputs": [
    {
     "name": "stdout",
     "output_type": "stream",
     "text": [
      "[[0.03556]\n",
      " [0.     ]\n",
      " [0.04   ]\n",
      " [0.     ]\n",
      " [0.07556]\n",
      " [0.     ]]\n"
     ]
    }
   ],
   "source": [
    "print(np.round_(alphas, 5))      # 소숫점 5자리이하 반올림"
   ]
  }
 ],
 "metadata": {
  "kernelspec": {
   "display_name": "Python 3",
   "language": "python",
   "name": "python3"
  },
  "language_info": {
   "codemirror_mode": {
    "name": "ipython",
    "version": 3
   },
   "file_extension": ".py",
   "mimetype": "text/x-python",
   "name": "python",
   "nbconvert_exporter": "python",
   "pygments_lexer": "ipython3",
   "version": "3.7.3"
  },
  "varInspector": {
   "cols": {
    "lenName": 16,
    "lenType": 16,
    "lenVar": 40
   },
   "kernels_config": {
    "python": {
     "delete_cmd_postfix": "",
     "delete_cmd_prefix": "del ",
     "library": "var_list.py",
     "varRefreshCmd": "print(var_dic_list())"
    },
    "r": {
     "delete_cmd_postfix": ") ",
     "delete_cmd_prefix": "rm(",
     "library": "var_list.r",
     "varRefreshCmd": "cat(var_dic_list()) "
    }
   },
   "types_to_exclude": [
    "module",
    "function",
    "builtin_function_or_method",
    "instance",
    "_Feature"
   ],
   "window_display": false
  }
 },
 "nbformat": 4,
 "nbformat_minor": 2
}
