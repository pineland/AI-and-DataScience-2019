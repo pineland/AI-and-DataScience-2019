{
  "nbformat": 4,
  "nbformat_minor": 0,
  "metadata": {
    "colab": {
      "name": "test10.ipynb",
      "provenance": [],
      "authorship_tag": "ABX9TyOu1aw+lM3sBi9setofOUl2",
      "include_colab_link": true
    },
    "kernelspec": {
      "name": "python3",
      "display_name": "Python 3"
    },
    "language_info": {
      "name": "python"
    }
  },
  "cells": [
    {
      "cell_type": "markdown",
      "metadata": {
        "id": "view-in-github",
        "colab_type": "text"
      },
      "source": [
        "<a href=\"https://colab.research.google.com/github/pineland/AI-and-DataScience-2019/blob/master/test10.ipynb\" target=\"_parent\"><img src=\"https://colab.research.google.com/assets/colab-badge.svg\" alt=\"Open In Colab\"/></a>"
      ]
    },
    {
      "cell_type": "code",
      "metadata": {
        "colab": {
          "resources": {
            "http://localhost:8080/nbextensions/google.colab/files.js": {
              "data": "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",
              "ok": true,
              "headers": [
                [
                  "content-type",
                  "application/javascript"
                ]
              ],
              "status": 200,
              "status_text": ""
            }
          },
          "base_uri": "https://localhost:8080/",
          "height": 77
        },
        "id": "yNDRXP42Sed-",
        "outputId": "6a121095-a751-448a-b357-e13873d30278"
      },
      "source": [
        "from google.colab import files\n",
        "uploaded = files.upload()"
      ],
      "execution_count": 1,
      "outputs": [
        {
          "output_type": "display_data",
          "data": {
            "text/html": [
              "\n",
              "     <input type=\"file\" id=\"files-98e8410d-7362-4735-8782-912138dc2966\" name=\"files[]\" multiple disabled\n",
              "        style=\"border:none\" />\n",
              "     <output id=\"result-98e8410d-7362-4735-8782-912138dc2966\">\n",
              "      Upload widget is only available when the cell has been executed in the\n",
              "      current browser session. Please rerun this cell to enable.\n",
              "      </output>\n",
              "      <script src=\"/nbextensions/google.colab/files.js\"></script> "
            ],
            "text/plain": [
              "<IPython.core.display.HTML object>"
            ]
          },
          "metadata": {}
        },
        {
          "output_type": "stream",
          "name": "stdout",
          "text": [
            "Saving grades.csv to grades.csv\n"
          ]
        }
      ]
    },
    {
      "cell_type": "code",
      "metadata": {
        "colab": {
          "base_uri": "https://localhost:8080/"
        },
        "id": "L5dbOshHUD_x",
        "outputId": "ea2eb958-0943-4288-8e61-44e159c3d4fc"
      },
      "source": [
        "!ls"
      ],
      "execution_count": 2,
      "outputs": [
        {
          "output_type": "stream",
          "name": "stdout",
          "text": [
            "grades.csv  sample_data\n"
          ]
        }
      ]
    },
    {
      "cell_type": "code",
      "metadata": {
        "colab": {
          "base_uri": "https://localhost:8080/"
        },
        "id": "62XWVAAMUZtn",
        "outputId": "07b66581-efc0-43ad-a7f5-0836eb2add89"
      },
      "source": [
        "for fn in uploaded.keys():\n",
        "  print(\"Uploaded file: \", fn)"
      ],
      "execution_count": 3,
      "outputs": [
        {
          "output_type": "stream",
          "name": "stdout",
          "text": [
            "Uploaded file:  grades.csv\n"
          ]
        }
      ]
    },
    {
      "cell_type": "code",
      "metadata": {
        "id": "kze3JekSVAxi"
      },
      "source": [
        "import pandas as pd\n",
        "import io\n",
        "\n",
        "df = pd.read_csv(io.StringIO(uploaded['grades.csv'].decode('utf-8')))"
      ],
      "execution_count": 5,
      "outputs": []
    },
    {
      "cell_type": "code",
      "metadata": {
        "colab": {
          "base_uri": "https://localhost:8080/",
          "height": 964
        },
        "id": "ZDHrGlj6V12D",
        "outputId": "99c1e985-961e-40fb-db27-e260a8daaa7a"
      },
      "source": [
        "df"
      ],
      "execution_count": 6,
      "outputs": [
        {
          "output_type": "execute_result",
          "data": {
            "text/html": [
              "<div>\n",
              "<style scoped>\n",
              "    .dataframe tbody tr th:only-of-type {\n",
              "        vertical-align: middle;\n",
              "    }\n",
              "\n",
              "    .dataframe tbody tr th {\n",
              "        vertical-align: top;\n",
              "    }\n",
              "\n",
              "    .dataframe thead th {\n",
              "        text-align: right;\n",
              "    }\n",
              "</style>\n",
              "<table border=\"1\" class=\"dataframe\">\n",
              "  <thead>\n",
              "    <tr style=\"text-align: right;\">\n",
              "      <th></th>\n",
              "      <th>student_id</th>\n",
              "      <th>assignment1_grade</th>\n",
              "      <th>assignment1_submission</th>\n",
              "      <th>assignment2_grade</th>\n",
              "      <th>assignment2_submission</th>\n",
              "      <th>assignment3_grade</th>\n",
              "      <th>assignment3_submission</th>\n",
              "      <th>assignment4_grade</th>\n",
              "      <th>assignment4_submission</th>\n",
              "      <th>assignment5_grade</th>\n",
              "      <th>assignment5_submission</th>\n",
              "      <th>assignment6_grade</th>\n",
              "      <th>assignment6_submission</th>\n",
              "    </tr>\n",
              "  </thead>\n",
              "  <tbody>\n",
              "    <tr>\n",
              "      <th>0</th>\n",
              "      <td>B73F2C11-70F0-E37D-8B10-1D20AFED50B1</td>\n",
              "      <td>92.733946</td>\n",
              "      <td>2015-11-02 06:55:34.282000000</td>\n",
              "      <td>83.030552</td>\n",
              "      <td>2015-11-09 02:22:58.938000000</td>\n",
              "      <td>67.164441</td>\n",
              "      <td>2015-11-12 08:58:33.998000000</td>\n",
              "      <td>53.011553</td>\n",
              "      <td>2015-11-16 01:21:24.663000000</td>\n",
              "      <td>47.710398</td>\n",
              "      <td>2015-11-20 13:24:59.692000000</td>\n",
              "      <td>38.168318</td>\n",
              "      <td>2015-11-22 18:31:15.934000000</td>\n",
              "    </tr>\n",
              "    <tr>\n",
              "      <th>1</th>\n",
              "      <td>98A0FAE0-A19A-13D2-4BB5-CFBFD94031D1</td>\n",
              "      <td>86.790821</td>\n",
              "      <td>2015-11-29 14:57:44.429000000</td>\n",
              "      <td>86.290821</td>\n",
              "      <td>2015-12-06 17:41:18.449000000</td>\n",
              "      <td>69.772657</td>\n",
              "      <td>2015-12-10 08:54:55.904000000</td>\n",
              "      <td>55.098125</td>\n",
              "      <td>2015-12-13 17:32:30.941000000</td>\n",
              "      <td>49.588313</td>\n",
              "      <td>2015-12-19 23:26:39.285000000</td>\n",
              "      <td>44.629482</td>\n",
              "      <td>2015-12-21 17:07:24.275000000</td>\n",
              "    </tr>\n",
              "    <tr>\n",
              "      <th>2</th>\n",
              "      <td>D0F62040-CEB0-904C-F563-2F8620916C4E</td>\n",
              "      <td>85.512541</td>\n",
              "      <td>2016-01-09 05:36:02.389000000</td>\n",
              "      <td>85.512541</td>\n",
              "      <td>2016-01-09 06:39:44.416000000</td>\n",
              "      <td>68.410033</td>\n",
              "      <td>2016-01-15 20:22:45.882000000</td>\n",
              "      <td>54.728026</td>\n",
              "      <td>2016-01-11 12:41:50.749000000</td>\n",
              "      <td>49.255224</td>\n",
              "      <td>2016-01-11 17:31:12.489000000</td>\n",
              "      <td>44.329701</td>\n",
              "      <td>2016-01-17 16:24:42.765000000</td>\n",
              "    </tr>\n",
              "    <tr>\n",
              "      <th>3</th>\n",
              "      <td>FFDF2B2C-F514-EF7F-6538-A6A53518E9DC</td>\n",
              "      <td>86.030665</td>\n",
              "      <td>2016-04-30 06:50:39.801000000</td>\n",
              "      <td>68.824532</td>\n",
              "      <td>2016-04-30 17:20:38.727000000</td>\n",
              "      <td>61.942079</td>\n",
              "      <td>2016-05-12 07:47:16.326000000</td>\n",
              "      <td>49.553663</td>\n",
              "      <td>2016-05-07 16:09:20.485000000</td>\n",
              "      <td>49.553663</td>\n",
              "      <td>2016-05-24 12:51:18.016000000</td>\n",
              "      <td>44.598297</td>\n",
              "      <td>2016-05-26 08:09:12.058000000</td>\n",
              "    </tr>\n",
              "    <tr>\n",
              "      <th>4</th>\n",
              "      <td>5ECBEEB6-F1CE-80AE-3164-E45E99473FB4</td>\n",
              "      <td>64.813800</td>\n",
              "      <td>2015-12-13 17:06:10.750000000</td>\n",
              "      <td>51.491040</td>\n",
              "      <td>2015-12-14 12:25:12.056000000</td>\n",
              "      <td>41.932832</td>\n",
              "      <td>2015-12-29 14:25:22.594000000</td>\n",
              "      <td>36.929549</td>\n",
              "      <td>2015-12-28 01:29:55.901000000</td>\n",
              "      <td>33.236594</td>\n",
              "      <td>2015-12-29 14:46:06.628000000</td>\n",
              "      <td>33.236594</td>\n",
              "      <td>2016-01-05 01:06:59.546000000</td>\n",
              "    </tr>\n",
              "    <tr>\n",
              "      <th>...</th>\n",
              "      <td>...</td>\n",
              "      <td>...</td>\n",
              "      <td>...</td>\n",
              "      <td>...</td>\n",
              "      <td>...</td>\n",
              "      <td>...</td>\n",
              "      <td>...</td>\n",
              "      <td>...</td>\n",
              "      <td>...</td>\n",
              "      <td>...</td>\n",
              "      <td>...</td>\n",
              "      <td>...</td>\n",
              "      <td>...</td>\n",
              "    </tr>\n",
              "    <tr>\n",
              "      <th>2310</th>\n",
              "      <td>DE88902E-C7A7-E37A-CFA7-F2C8F2D219F2</td>\n",
              "      <td>77.684611</td>\n",
              "      <td>2016-03-07 02:52:24.378000000</td>\n",
              "      <td>69.916150</td>\n",
              "      <td>2016-03-11 22:02:39.161000000</td>\n",
              "      <td>69.916150</td>\n",
              "      <td>2016-03-17 07:30:09.261000000</td>\n",
              "      <td>69.916150</td>\n",
              "      <td>2016-03-18 18:01:24.525000000</td>\n",
              "      <td>55.932920</td>\n",
              "      <td>2016-03-20 06:38:12.120000000</td>\n",
              "      <td>50.339628</td>\n",
              "      <td>2016-03-25 11:00:06.923000000</td>\n",
              "    </tr>\n",
              "    <tr>\n",
              "      <th>2311</th>\n",
              "      <td>DE88902E-C7A7-E37A-CFA7-F2C8F2D219F2</td>\n",
              "      <td>75.367870</td>\n",
              "      <td>2015-11-29 02:43:27.932000000</td>\n",
              "      <td>59.934296</td>\n",
              "      <td>2015-12-03 05:30:39.218000000</td>\n",
              "      <td>48.687437</td>\n",
              "      <td>2015-12-09 15:56:44.895000000</td>\n",
              "      <td>43.008693</td>\n",
              "      <td>2015-12-13 06:18:01.342000000</td>\n",
              "      <td>38.707824</td>\n",
              "      <td>2015-12-20 02:39:39.248000000</td>\n",
              "      <td>38.707824</td>\n",
              "      <td>2015-12-22 13:34:42.931000000</td>\n",
              "    </tr>\n",
              "    <tr>\n",
              "      <th>2312</th>\n",
              "      <td>EFDA9F93-D0C3-864F-B0F6-2E9AA3E05E31</td>\n",
              "      <td>73.269463</td>\n",
              "      <td>2015-10-20 08:09:27.418000000</td>\n",
              "      <td>58.255570</td>\n",
              "      <td>2015-11-18 19:07:06.930000000</td>\n",
              "      <td>58.955570</td>\n",
              "      <td>2015-12-10 08:54:54.871000000</td>\n",
              "      <td>52.250013</td>\n",
              "      <td>2015-11-23 19:40:00.434000000</td>\n",
              "      <td>41.800010</td>\n",
              "      <td>2015-11-29 14:23:43.659000000</td>\n",
              "      <td>41.800010</td>\n",
              "      <td>2015-12-04 09:56:07.156000000</td>\n",
              "    </tr>\n",
              "    <tr>\n",
              "      <th>2313</th>\n",
              "      <td>1F51E050-78F7-F270-1B90-ED1BC0376763</td>\n",
              "      <td>87.268366</td>\n",
              "      <td>2016-04-03 09:04:51.646000000</td>\n",
              "      <td>87.268366</td>\n",
              "      <td>2016-04-08 19:24:29.095000000</td>\n",
              "      <td>87.268366</td>\n",
              "      <td>2016-04-12 05:43:33.853000000</td>\n",
              "      <td>69.814693</td>\n",
              "      <td>2016-04-14 10:43:58.104000000</td>\n",
              "      <td>55.851754</td>\n",
              "      <td>2016-04-19 05:37:19.322000000</td>\n",
              "      <td>55.851754</td>\n",
              "      <td>2016-04-23 03:44:06.813000000</td>\n",
              "    </tr>\n",
              "    <tr>\n",
              "      <th>2314</th>\n",
              "      <td>DDE0526B-7DA4-80E8-C2A6-D097F3826029</td>\n",
              "      <td>80.318105</td>\n",
              "      <td>2015-10-04 09:46:03.403000000</td>\n",
              "      <td>79.818105</td>\n",
              "      <td>2015-10-06 10:28:30.820000000</td>\n",
              "      <td>64.594484</td>\n",
              "      <td>2015-10-13 17:06:29.179000000</td>\n",
              "      <td>50.955587</td>\n",
              "      <td>2015-10-06 16:18:35.513000000</td>\n",
              "      <td>40.764470</td>\n",
              "      <td>2015-10-23 17:03:26.939000000</td>\n",
              "      <td>40.764470</td>\n",
              "      <td>2015-10-26 15:56:55.460000000</td>\n",
              "    </tr>\n",
              "  </tbody>\n",
              "</table>\n",
              "<p>2315 rows × 13 columns</p>\n",
              "</div>"
            ],
            "text/plain": [
              "                                student_id  ...         assignment6_submission\n",
              "0     B73F2C11-70F0-E37D-8B10-1D20AFED50B1  ...  2015-11-22 18:31:15.934000000\n",
              "1     98A0FAE0-A19A-13D2-4BB5-CFBFD94031D1  ...  2015-12-21 17:07:24.275000000\n",
              "2     D0F62040-CEB0-904C-F563-2F8620916C4E  ...  2016-01-17 16:24:42.765000000\n",
              "3     FFDF2B2C-F514-EF7F-6538-A6A53518E9DC  ...  2016-05-26 08:09:12.058000000\n",
              "4     5ECBEEB6-F1CE-80AE-3164-E45E99473FB4  ...  2016-01-05 01:06:59.546000000\n",
              "...                                    ...  ...                            ...\n",
              "2310  DE88902E-C7A7-E37A-CFA7-F2C8F2D219F2  ...  2016-03-25 11:00:06.923000000\n",
              "2311  DE88902E-C7A7-E37A-CFA7-F2C8F2D219F2  ...  2015-12-22 13:34:42.931000000\n",
              "2312  EFDA9F93-D0C3-864F-B0F6-2E9AA3E05E31  ...  2015-12-04 09:56:07.156000000\n",
              "2313  1F51E050-78F7-F270-1B90-ED1BC0376763  ...  2016-04-23 03:44:06.813000000\n",
              "2314  DDE0526B-7DA4-80E8-C2A6-D097F3826029  ...  2015-10-26 15:56:55.460000000\n",
              "\n",
              "[2315 rows x 13 columns]"
            ]
          },
          "metadata": {},
          "execution_count": 6
        }
      ]
    },
    {
      "cell_type": "code",
      "metadata": {
        "colab": {
          "base_uri": "https://localhost:8080/"
        },
        "id": "32o4Szc3WWNO",
        "outputId": "52048827-313f-4de9-c389-3b672cacf57b"
      },
      "source": [
        "from google.colab import drive\n",
        "drive.mount('/content/gdrive')"
      ],
      "execution_count": 7,
      "outputs": [
        {
          "output_type": "stream",
          "name": "stdout",
          "text": [
            "Mounted at /content/gdrive\n"
          ]
        }
      ]
    }
  ]
}