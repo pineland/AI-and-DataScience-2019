{
 "cells": [
  {
   "cell_type": "markdown",
   "metadata": {},
   "source": [
    "# 시계열 데이터 다루기(기본)"
   ]
  },
  {
   "cell_type": "markdown",
   "metadata": {},
   "source": [
    "## 1. Data Types and Tools of  Date & Time"
   ]
  },
  {
   "cell_type": "code",
   "execution_count": 1,
   "metadata": {},
   "outputs": [
    {
     "name": "stdout",
     "output_type": "stream",
     "text": [
      "2019-11-02 18:35:48.316359\n",
      "2019 11 2\n"
     ]
    }
   ],
   "source": [
    "# 날짜와 시간을 위한 표준라이브러리 불러오기\n",
    "from datetime import datetime\n",
    "now = datetime.now()\n",
    "print(now)\n",
    "print(now.year, now.month, now.day)"
   ]
  },
  {
   "cell_type": "code",
   "execution_count": null,
   "metadata": {},
   "outputs": [],
   "source": [
    "# 시간의 차이를 표현해보자.\n",
    "delta = datetime(2019, 11, 2) - datetime(2019, 6, 24, 8, 15)\n",
    "print(delta)\n",
    "print(delta.days)\n",
    "print(delta.seconds)"
   ]
  },
  {
   "cell_type": "code",
   "execution_count": null,
   "metadata": {},
   "outputs": [],
   "source": [
    "# 시간 연산\n",
    "from datetime import timedelta\n",
    "start = datetime(2019, 1, 7)\n",
    "print(start + timedelta(12)) # 12일 더하기\n",
    "print(start - 2 * timedelta(12)) # 2*12일 빼기"
   ]
  },
  {
   "cell_type": "markdown",
   "metadata": {},
   "source": [
    "<center><b>Data types of date and time</b></center>\n",
    "\n",
    "| 자료형 |  설명   |  \n",
    "|---|:---|\n",
    "| `date` | 그레고리안 달력을 사용해서 연, 월, 일 저장  |  \n",
    "| `time` | 하루의 시간을 시, 분, 초, 마이크로초 단위로 저장 |  \n",
    "| `datetime` | 날짜와 시간을 저장 |\n",
    "| `timedelta` | 두 datetime 간의 차이(일, 초 마이크로초)를 표현 |  \n",
    "| `tzinfo` | 지역시간대를 저장 |"
   ]
  },
  {
   "cell_type": "markdown",
   "metadata": {},
   "source": [
    "### 1.1 문자열 <-> datetime으로 변환하기"
   ]
  },
  {
   "cell_type": "code",
   "execution_count": null,
   "metadata": {},
   "outputs": [],
   "source": [
    "# datatime을 문자열로 변환하기\n",
    "## datetime 객체와 pandas의 timestamp 객체는 str메서드나 strftime 메서드에 포맷규칙을 넘겨서  문자열로 나타낼 수 있다.\n",
    "stamp = datetime(2019, 11, 2)\n",
    "print(str(stamp))\n",
    "print(stamp.strftime('%Y-%m-%d'))"
   ]
  },
  {
   "cell_type": "code",
   "execution_count": null,
   "metadata": {},
   "outputs": [],
   "source": [
    "# 문자열을 datetime으로 변환하기\n",
    "strings = '2019-11-02 12:00:00'\n",
    "from dateutil.parser import parse\n",
    "print(parse(strings), type(parse(strings)))\n",
    "import pandas as pd\n",
    "print(pd.to_datetime(strings), type(pd.to_datetime(strings)))"
   ]
  },
  {
   "cell_type": "markdown",
   "metadata": {},
   "source": [
    "## 2. 시계열 기초"
   ]
  },
  {
   "cell_type": "markdown",
   "metadata": {},
   "source": [
    "### 2.1 indexing, selecting, slicing"
   ]
  },
  {
   "cell_type": "code",
   "execution_count": null,
   "metadata": {},
   "outputs": [],
   "source": [
    "# datetime 인덱스로 pandas series 생성\n",
    "from datetime import datetime\n",
    "dates = [datetime(2019, 1, 2), datetime(2019, 1, 5),\n",
    "         datetime(2019, 1, 7), datetime(2019, 1, 8),\n",
    "         datetime(2019, 1, 10), datetime(2019, 1, 12)]\n",
    "ts = pd.Series(np.random.randn(6), index=dates)\n",
    "ts"
   ]
  },
  {
   "cell_type": "code",
   "execution_count": null,
   "metadata": {},
   "outputs": [],
   "source": [
    "ts.index, ts.values"
   ]
  },
  {
   "cell_type": "code",
   "execution_count": null,
   "metadata": {},
   "outputs": [],
   "source": [
    "# slicing\n",
    "ts[0], ts['2019-01-02']"
   ]
  },
  {
   "cell_type": "code",
   "execution_count": null,
   "metadata": {},
   "outputs": [],
   "source": [
    "ts[1::2]"
   ]
  },
  {
   "cell_type": "code",
   "execution_count": null,
   "metadata": {},
   "outputs": [],
   "source": [
    "ts['2019-01-05':'2019-01-08']"
   ]
  },
  {
   "cell_type": "code",
   "execution_count": null,
   "metadata": {},
   "outputs": [],
   "source": [
    "ts[10<=ts.index.day]"
   ]
  },
  {
   "cell_type": "code",
   "execution_count": null,
   "metadata": {},
   "outputs": [],
   "source": [
    "ts.truncate(after='2019-01-08'), ts.truncate(before='01/08/2019') \n",
    "# 날짜형식 : yyyy-mm-dd, yyyy/mm/dd, dd/mm/yyyy, yyyymmdd 모두 가능"
   ]
  },
  {
   "cell_type": "code",
   "execution_count": null,
   "metadata": {},
   "outputs": [],
   "source": [
    "ts['20190110']"
   ]
  },
  {
   "cell_type": "markdown",
   "metadata": {},
   "source": [
    "### 2.2 중복된 색인을 갖는 시계열"
   ]
  },
  {
   "cell_type": "code",
   "execution_count": null,
   "metadata": {},
   "outputs": [],
   "source": [
    "dates = pd.DatetimeIndex(['1/1/2000', '1/2/2000', '1/2/2000',\n",
    "                          '1/2/2000', '1/3/2000'])\n",
    "dup_ts = pd.Series(np.arange(5), index=dates)\n",
    "dup_ts"
   ]
  },
  {
   "cell_type": "code",
   "execution_count": null,
   "metadata": {},
   "outputs": [],
   "source": [
    "# 색인의 중복여부 점검\n",
    "dup_ts.index.is_unique"
   ]
  },
  {
   "cell_type": "code",
   "execution_count": null,
   "metadata": {},
   "outputs": [],
   "source": [
    "grouped = dup_ts.groupby(dup_ts.index)\n",
    "grouped.count(), grouped.mean()"
   ]
  },
  {
   "cell_type": "markdown",
   "metadata": {},
   "source": [
    "### 2.3 날짜 범위, 빈도, 이동"
   ]
  },
  {
   "cell_type": "markdown",
   "metadata": {},
   "source": [
    "#### 2.3.1 날짜 범위 생성하기"
   ]
  },
  {
   "cell_type": "code",
   "execution_count": null,
   "metadata": {},
   "outputs": [],
   "source": [
    "index = pd.date_range('2019-09-01', '2019-10-31')\n",
    "#index = pd.date_range(start='2019-09-01',  period=60)\n",
    "#index = pd.date_range(end='2019-10-31', period=60)"
   ]
  },
  {
   "cell_type": "markdown",
   "metadata": {},
   "source": [
    "#### 2.3.2 빈도"
   ]
  },
  {
   "cell_type": "code",
   "execution_count": null,
   "metadata": {},
   "outputs": [],
   "source": [
    "from pandas.tseries.offsets import Hour, Minute\n",
    "pd.date_range('2019-10-30', '2019-11-02', freq='D')  # 빈도 : 매일\n",
    "# 매월 마지막일 : M, W : 매주, 매시: H, 매분: T 또는 min, 매초 : S, 매밀리초 : L 또는 ms, ..."
   ]
  },
  {
   "cell_type": "code",
   "execution_count": null,
   "metadata": {},
   "outputs": [],
   "source": [
    "# 빈도 앞에 숫자를 두면 해당 빈도의 곱을 생성한다.\n",
    "pd.date_range('2000-01-01', '2000-01-03 23:59', freq='4h') "
   ]
  },
  {
   "cell_type": "markdown",
   "metadata": {},
   "source": [
    "#### 2.3.3 샘플링"
   ]
  },
  {
   "cell_type": "code",
   "execution_count": null,
   "metadata": {
    "code_folding": []
   },
   "outputs": [],
   "source": [
    "twodays = pd.Series(np.random.randn(365), index=pd.date_range('2018-01-01', '2019-12-31', freq='2d'))\n",
    "twodays.head()"
   ]
  },
  {
   "cell_type": "code",
   "execution_count": null,
   "metadata": {},
   "outputs": [],
   "source": [
    "# 다운샘플링\n",
    "years.resample(rule='A').mean()   # 매년,   \n",
    "# 매분기 : Q, 그 외에 위의 빈도에서 사용된 부호 이용 가능"
   ]
  },
  {
   "cell_type": "code",
   "execution_count": null,
   "metadata": {},
   "outputs": [],
   "source": [
    "# 업샘플링\n",
    "onedays = twodays.resample('D').asfreq()  # 빈칸에 NaN이 들어간다.\n",
    "onedays.head()"
   ]
  },
  {
   "cell_type": "code",
   "execution_count": null,
   "metadata": {},
   "outputs": [],
   "source": [
    "# 보간 : NaN 채우기\n",
    "onedays_bogan =  twodays.resample('D').ffill()  # 빈칸에 바로 앞의 값이 들어간다.\n",
    "onedays_bogan.head()"
   ]
  },
  {
   "cell_type": "markdown",
   "metadata": {},
   "source": [
    "#### 2.3.4 날짜 이동"
   ]
  },
  {
   "cell_type": "code",
   "execution_count": null,
   "metadata": {},
   "outputs": [],
   "source": [
    "ts = pd.Series(np.random.randn(4),\n",
    "               index=pd.date_range('1/1/2000', periods=4, freq='D'))\n",
    "ts, ts.shift(2)    # 값이 뒤로 2칸(day) 이동"
   ]
  },
  {
   "cell_type": "code",
   "execution_count": null,
   "metadata": {},
   "outputs": [],
   "source": [
    "ts.shift(-2)   # 값이 앞으로 2칸(day) 이동"
   ]
  },
  {
   "cell_type": "code",
   "execution_count": null,
   "metadata": {},
   "outputs": [],
   "source": [
    "ts / ts.shift(1) - 1    # 값  연산도 가능"
   ]
  },
  {
   "cell_type": "code",
   "execution_count": null,
   "metadata": {},
   "outputs": [],
   "source": [
    "# 빈도수를 주면, 그것을 기준으로 계산\n",
    "ts, ts.shift(2, freq='90min')    # 3시간(2 x 90 min) 이동"
   ]
  },
  {
   "cell_type": "markdown",
   "metadata": {},
   "source": [
    "#### 2.3.5 다른 시간대(time zone) 간의 연산"
   ]
  },
  {
   "cell_type": "code",
   "execution_count": null,
   "metadata": {},
   "outputs": [],
   "source": [
    "rng = pd.date_range('3/7/2012 9:30', periods=10, freq='B')  # B : business day\n",
    "ts = pd.Series(np.random.randn(len(rng)), index=rng)\n",
    "ts"
   ]
  },
  {
   "cell_type": "code",
   "execution_count": null,
   "metadata": {},
   "outputs": [],
   "source": [
    "ts1 = ts[:7].tz_localize('Europe/London')\n",
    "ts2 = ts1[2:].tz_convert('Europe/Moscow')\n",
    "result = ts1 + ts2\n",
    "result.index   # 서로 다른 시간대를 연산하면 결과는 utc가 된다."
   ]
  },
  {
   "cell_type": "markdown",
   "metadata": {},
   "source": [
    "### 2.4 Moving window"
   ]
  },
  {
   "cell_type": "code",
   "execution_count": null,
   "metadata": {},
   "outputs": [],
   "source": [
    "# 데이터 로드\n",
    "from sklearn.datasets import load_boston\n",
    "pd_boston = pd.DataFrame( load_boston().data, columns=load_boston().feature_names,\n",
    "               index=pd.date_range(start='1/1/2000', end='09/06/2009', freq='W'))\n",
    "pd_boston.head()"
   ]
  },
  {
   "cell_type": "code",
   "execution_count": null,
   "metadata": {},
   "outputs": [],
   "source": [
    "pd_boston['RM'].plot(label='origin')\n",
    "pd_boston['RM'].rolling(50).mean().plot(label='50')   # 50 : 샘플 개수\n",
    "pd_boston['RM'].rolling('30d').mean().plot(label='30d')  # 30일 크기의 이동평균창\n",
    "plt.legend()"
   ]
  }
 ],
 "metadata": {
  "kernelspec": {
   "display_name": "Python 3",
   "language": "python",
   "name": "python3"
  },
  "language_info": {
   "codemirror_mode": {
    "name": "ipython",
    "version": 3
   },
   "file_extension": ".py",
   "mimetype": "text/x-python",
   "name": "python",
   "nbconvert_exporter": "python",
   "pygments_lexer": "ipython3",
   "version": "3.7.3"
  },
  "varInspector": {
   "cols": {
    "lenName": 16,
    "lenType": 16,
    "lenVar": 40
   },
   "kernels_config": {
    "python": {
     "delete_cmd_postfix": "",
     "delete_cmd_prefix": "del ",
     "library": "var_list.py",
     "varRefreshCmd": "print(var_dic_list())"
    },
    "r": {
     "delete_cmd_postfix": ") ",
     "delete_cmd_prefix": "rm(",
     "library": "var_list.r",
     "varRefreshCmd": "cat(var_dic_list()) "
    }
   },
   "types_to_exclude": [
    "module",
    "function",
    "builtin_function_or_method",
    "instance",
    "_Feature"
   ],
   "window_display": false
  }
 },
 "nbformat": 4,
 "nbformat_minor": 2
}
