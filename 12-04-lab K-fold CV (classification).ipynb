{
 "cells": [
  {
   "cell_type": "markdown",
   "metadata": {},
   "source": [
    "# K-fold cross validation (Classification)"
   ]
  },
  {
   "cell_type": "markdown",
   "metadata": {},
   "source": [
    "* Ref : https://scikit-learn.org/0.15/modules/cross_validation.html"
   ]
  },
  {
   "cell_type": "code",
   "execution_count": 72,
   "metadata": {},
   "outputs": [],
   "source": [
    "import numpy as np\n",
    "from sklearn.model_selection import KFold\n",
    "from sklearn import svm"
   ]
  },
  {
   "cell_type": "code",
   "execution_count": 73,
   "metadata": {},
   "outputs": [
    {
     "data": {
      "text/plain": [
       "((150, 4), (150,))"
      ]
     },
     "execution_count": 73,
     "metadata": {},
     "output_type": "execute_result"
    }
   ],
   "source": [
    "# Load dataset\n",
    "from sklearn import datasets\n",
    "iris = datasets.load_iris()\n",
    "iris.data.shape, iris.target.shape"
   ]
  },
  {
   "cell_type": "code",
   "execution_count": 74,
   "metadata": {},
   "outputs": [],
   "source": [
    "model = svm.SVC(kernel='linear', C=1)"
   ]
  },
  {
   "cell_type": "code",
   "execution_count": 75,
   "metadata": {},
   "outputs": [],
   "source": [
    "kf = KFold(n_splits=3, shuffle=True)"
   ]
  },
  {
   "cell_type": "code",
   "execution_count": 76,
   "metadata": {},
   "outputs": [],
   "source": [
    "score =[]"
   ]
  },
  {
   "cell_type": "code",
   "execution_count": 77,
   "metadata": {},
   "outputs": [
    {
     "name": "stdout",
     "output_type": "stream",
     "text": [
      "TRAIN: [  3   4   6   7   8  12  13  14  15  16  18  20  22  23  24  27  28  29\n",
      "  30  31  32  33  34  36  39  40  41  44  45  46  47  49  50  51  54  56\n",
      "  57  58  59  60  61  62  63  65  67  69  71  72  73  74  75  77  78  79\n",
      "  80  83  84  86  88  90  92  93  94  95  97  99 101 102 103 104 107 108\n",
      " 111 115 117 118 119 120 121 122 124 126 128 130 131 132 134 136 137 138\n",
      " 139 140 141 142 143 145 146 147 148 149] \n",
      " TEST: [  0   1   2   5   9  10  11  17  19  21  25  26  35  37  38  42  43  48\n",
      "  52  53  55  64  66  68  70  76  81  82  85  87  89  91  96  98 100 105\n",
      " 106 109 110 112 113 114 116 123 125 127 129 133 135 144]\n",
      "TRAIN: [  0   1   2   5   6   7   8   9  10  11  12  17  19  20  21  22  23  24\n",
      "  25  26  29  30  32  33  35  37  38  41  42  43  46  48  49  51  52  53\n",
      "  54  55  56  57  58  61  63  64  65  66  68  70  71  72  76  77  78  79\n",
      "  81  82  83  84  85  87  88  89  90  91  93  94  95  96  98  99 100 102\n",
      " 105 106 107 109 110 112 113 114 116 118 119 123 125 126 127 129 131 133\n",
      " 134 135 136 137 140 142 144 145 146 149] \n",
      " TEST: [  3   4  13  14  15  16  18  27  28  31  34  36  39  40  44  45  47  50\n",
      "  59  60  62  67  69  73  74  75  80  86  92  97 101 103 104 108 111 115\n",
      " 117 120 121 122 124 128 130 132 138 139 141 143 147 148]\n",
      "TRAIN: [  0   1   2   3   4   5   9  10  11  13  14  15  16  17  18  19  21  25\n",
      "  26  27  28  31  34  35  36  37  38  39  40  42  43  44  45  47  48  50\n",
      "  52  53  55  59  60  62  64  66  67  68  69  70  73  74  75  76  80  81\n",
      "  82  85  86  87  89  91  92  96  97  98 100 101 103 104 105 106 108 109\n",
      " 110 111 112 113 114 115 116 117 120 121 122 123 124 125 127 128 129 130\n",
      " 132 133 135 138 139 141 143 144 147 148] \n",
      " TEST: [  6   7   8  12  20  22  23  24  29  30  32  33  41  46  49  51  54  56\n",
      "  57  58  61  63  65  71  72  77  78  79  83  84  88  90  93  94  95  99\n",
      " 102 107 118 119 126 131 134 136 137 140 142 145 146 149]\n"
     ]
    }
   ],
   "source": [
    "for train_index, test_index in kf.split(iris.data): \n",
    "    print(\"TRAIN:\", train_index, \"\\n TEST:\", test_index) \n",
    "    X_train, X_test = iris.data[train_index], iris.data[test_index] \n",
    "    y_train, y_test = iris.target[train_index], iris.target[test_index]\n",
    "    model.fit(X_train, y_train)\n",
    "    score.append(model.score(X_test, y_test))"
   ]
  },
  {
   "cell_type": "code",
   "execution_count": 78,
   "metadata": {},
   "outputs": [
    {
     "name": "stdout",
     "output_type": "stream",
     "text": [
      "0.9866666666666667\n"
     ]
    }
   ],
   "source": [
    "print(np.mean(score))"
   ]
  }
 ],
 "metadata": {
  "kernelspec": {
   "display_name": "Python 3",
   "language": "python",
   "name": "python3"
  },
  "language_info": {
   "codemirror_mode": {
    "name": "ipython",
    "version": 3
   },
   "file_extension": ".py",
   "mimetype": "text/x-python",
   "name": "python",
   "nbconvert_exporter": "python",
   "pygments_lexer": "ipython3",
   "version": "3.7.3"
  },
  "toc": {
   "base_numbering": 1,
   "nav_menu": {},
   "number_sections": true,
   "sideBar": true,
   "skip_h1_title": false,
   "title_cell": "Table of Contents",
   "title_sidebar": "Contents",
   "toc_cell": false,
   "toc_position": {},
   "toc_section_display": true,
   "toc_window_display": false
  },
  "varInspector": {
   "cols": {
    "lenName": 16,
    "lenType": 16,
    "lenVar": 40
   },
   "kernels_config": {
    "python": {
     "delete_cmd_postfix": "",
     "delete_cmd_prefix": "del ",
     "library": "var_list.py",
     "varRefreshCmd": "print(var_dic_list())"
    },
    "r": {
     "delete_cmd_postfix": ") ",
     "delete_cmd_prefix": "rm(",
     "library": "var_list.r",
     "varRefreshCmd": "cat(var_dic_list()) "
    }
   },
   "types_to_exclude": [
    "module",
    "function",
    "builtin_function_or_method",
    "instance",
    "_Feature"
   ],
   "window_display": false
  }
 },
 "nbformat": 4,
 "nbformat_minor": 2
}
